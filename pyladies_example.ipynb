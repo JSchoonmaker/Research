{
  "nbformat": 4,
  "nbformat_minor": 0,
  "metadata": {
    "colab": {
      "name": "pyladies_example.ipynb",
      "provenance": [],
      "authorship_tag": "ABX9TyMpJM1sQTq6iJoMywMqvP+C",
      "include_colab_link": true
    },
    "kernelspec": {
      "name": "python3",
      "display_name": "Python 3"
    },
    "language_info": {
      "name": "python"
    }
  },
  "cells": [
    {
      "cell_type": "markdown",
      "metadata": {
        "id": "view-in-github",
        "colab_type": "text"
      },
      "source": [
        "<a href=\"https://colab.research.google.com/github/JSchoonmaker/Research/blob/main/pyladies_example.ipynb\" target=\"_parent\"><img src=\"https://colab.research.google.com/assets/colab-badge.svg\" alt=\"Open In Colab\"/></a>"
      ]
    },
    {
      "cell_type": "code",
      "metadata": {
        "id": "gU4OBMIzIcKK"
      },
      "source": [
        "import pandas as pd\n",
        "import numpy as np\n",
        "import re\n",
        "import datetime as dt"
      ],
      "execution_count": 1,
      "outputs": []
    },
    {
      "cell_type": "code",
      "metadata": {
        "id": "UICgGJKpIdd-"
      },
      "source": [
        "hl7files = ['DSHSCENTRA21078.COVID.hl7', 'DSHSCENTRA21069.COVID.hl7', 'DSHSCENTRA21065.COVID.hl7']"
      ],
      "execution_count": 2,
      "outputs": []
    },
    {
      "cell_type": "code",
      "metadata": {
        "colab": {
          "base_uri": "https://localhost:8080/"
        },
        "id": "035MkhPxIfXI",
        "outputId": "78428121-1828-4af5-d289-1a765cfe01b3"
      },
      "source": [
        "hl7filesavailable = []\n",
        "for hl7file in hl7files:\n",
        "    #ordinal = re.search('(DSHSCENTRA[0-9]{5}.COVID.hl7)', hl7file) #this line is not needed\n",
        "    ordinal = re.split(\"[A.]\", hl7file) #change this line to split the iterated item (hl7file) after the letter 'A'\n",
        "    if(ordinal != None):\n",
        "        hl7filesavailable.append(float(ordinal[1][3:6])) # the hl7 files\n",
        "print(hl7filesavailable)"
      ],
      "execution_count": 3,
      "outputs": [
        {
          "output_type": "stream",
          "text": [
            "[78.0, 69.0, 65.0]\n"
          ],
          "name": "stdout"
        }
      ]
    },
    {
      "cell_type": "code",
      "metadata": {
        "colab": {
          "base_uri": "https://localhost:8080/"
        },
        "id": "ubrh7ADuIhaU",
        "outputId": "9cee8d14-4271-41ed-9818-b35b2e68228a"
      },
      "source": [
        "date = []\n",
        "for ordinal in hl7filesavailable:\n",
        "    ord_date = dt.date.fromordinal(int(ordinal))\n",
        "    date.append(ord_date.strftime(\"%m/%d\") + '/2021')\n",
        "    \n",
        "print(date)"
      ],
      "execution_count": 4,
      "outputs": [
        {
          "output_type": "stream",
          "text": [
            "['03/19/2021', '03/10/2021', '03/06/2021']\n"
          ],
          "name": "stdout"
        }
      ]
    },
    {
      "cell_type": "code",
      "metadata": {
        "id": "7tSEESv9IkY8"
      },
      "source": [
        ""
      ],
      "execution_count": null,
      "outputs": []
    }
  ]
}