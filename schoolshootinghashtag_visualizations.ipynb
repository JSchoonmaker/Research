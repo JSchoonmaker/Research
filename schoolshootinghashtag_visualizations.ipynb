{
 "cells": [
  {
   "cell_type": "markdown",
   "metadata": {},
   "source": [
    "## Code and implementation heavily borrowed, with thanks, from https://github.com/scrapfishies/russian-troll-tweets-nlp"
   ]
  },
  {
   "cell_type": "code",
   "execution_count": 41,
   "metadata": {},
   "outputs": [],
   "source": [
    "import scattertext as st\n",
    "import pandas as pd\n",
    "import spacy\n",
    "nlp = spacy.load('en_core_web_sm')\n",
    "import nltk\n",
    "from nltk.corpus import words, stopwords, wordnet\n",
    "from collections import Counter\n",
    "import numpy as np\n",
    "import matplotlib.pyplot as plt\n",
    "import seaborn as sns\n",
    "%matplotlib inline\n",
    "\n",
    "# sklearn\n",
    "from sklearn.feature_extraction.text import CountVectorizer\n",
    "from sklearn.manifold import TSNE\n",
    "from sklearn.decomposition import LatentDirichletAllocation, PCA\n",
    "\n",
    "# corex\n",
    "from corextopic import corextopic as ct"
   ]
  },
  {
   "cell_type": "code",
   "execution_count": 95,
   "metadata": {},
   "outputs": [],
   "source": [
    "# Dataset provided by Ben (thanks Ben!), downloaded using twint (thanks Monica and Emma for finding and teaching us about this great tool!)\n",
    "df = pd.read_csv(r'C:\\users\\j\\downloads\\schoolshootingHashtag.csv')"
   ]
  },
  {
   "cell_type": "code",
   "execution_count": 92,
   "metadata": {},
   "outputs": [
    {
     "data": {
      "text/html": [
       "<div>\n",
       "<style scoped>\n",
       "    .dataframe tbody tr th:only-of-type {\n",
       "        vertical-align: middle;\n",
       "    }\n",
       "\n",
       "    .dataframe tbody tr th {\n",
       "        vertical-align: top;\n",
       "    }\n",
       "\n",
       "    .dataframe thead th {\n",
       "        text-align: right;\n",
       "    }\n",
       "</style>\n",
       "<table border=\"1\" class=\"dataframe\">\n",
       "  <thead>\n",
       "    <tr style=\"text-align: right;\">\n",
       "      <th></th>\n",
       "      <th>id</th>\n",
       "      <th>conversation_id</th>\n",
       "      <th>created_at</th>\n",
       "      <th>date</th>\n",
       "      <th>time</th>\n",
       "      <th>timezone</th>\n",
       "      <th>user_id</th>\n",
       "      <th>username</th>\n",
       "      <th>name</th>\n",
       "      <th>place</th>\n",
       "      <th>...</th>\n",
       "      <th>geo</th>\n",
       "      <th>source</th>\n",
       "      <th>user_rt_id</th>\n",
       "      <th>user_rt</th>\n",
       "      <th>retweet_id</th>\n",
       "      <th>reply_to</th>\n",
       "      <th>retweet_date</th>\n",
       "      <th>translate</th>\n",
       "      <th>trans_src</th>\n",
       "      <th>trans_dest</th>\n",
       "    </tr>\n",
       "  </thead>\n",
       "  <tbody>\n",
       "    <tr>\n",
       "      <th>0</th>\n",
       "      <td>1360682756297027584</td>\n",
       "      <td>1360682756297027584</td>\n",
       "      <td>2021-02-13 12:10:24 PST</td>\n",
       "      <td>2021-02-13</td>\n",
       "      <td>12:10:24</td>\n",
       "      <td>-800</td>\n",
       "      <td>1047877570740543489</td>\n",
       "      <td>k12ssdb</td>\n",
       "      <td>K-12 School Shooting Database</td>\n",
       "      <td>NaN</td>\n",
       "      <td>...</td>\n",
       "      <td>NaN</td>\n",
       "      <td>NaN</td>\n",
       "      <td>NaN</td>\n",
       "      <td>NaN</td>\n",
       "      <td>NaN</td>\n",
       "      <td>[]</td>\n",
       "      <td>NaN</td>\n",
       "      <td>NaN</td>\n",
       "      <td>NaN</td>\n",
       "      <td>NaN</td>\n",
       "    </tr>\n",
       "    <tr>\n",
       "      <th>1</th>\n",
       "      <td>1360681612757749761</td>\n",
       "      <td>1360681612757749761</td>\n",
       "      <td>2021-02-13 12:05:51 PST</td>\n",
       "      <td>2021-02-13</td>\n",
       "      <td>12:05:51</td>\n",
       "      <td>-800</td>\n",
       "      <td>1047877570740543489</td>\n",
       "      <td>k12ssdb</td>\n",
       "      <td>K-12 School Shooting Database</td>\n",
       "      <td>NaN</td>\n",
       "      <td>...</td>\n",
       "      <td>NaN</td>\n",
       "      <td>NaN</td>\n",
       "      <td>NaN</td>\n",
       "      <td>NaN</td>\n",
       "      <td>NaN</td>\n",
       "      <td>[]</td>\n",
       "      <td>NaN</td>\n",
       "      <td>NaN</td>\n",
       "      <td>NaN</td>\n",
       "      <td>NaN</td>\n",
       "    </tr>\n",
       "    <tr>\n",
       "      <th>2</th>\n",
       "      <td>1360679965650345984</td>\n",
       "      <td>1360679965650345984</td>\n",
       "      <td>2021-02-13 11:59:18 PST</td>\n",
       "      <td>2021-02-13</td>\n",
       "      <td>11:59:18</td>\n",
       "      <td>-800</td>\n",
       "      <td>1047877570740543489</td>\n",
       "      <td>k12ssdb</td>\n",
       "      <td>K-12 School Shooting Database</td>\n",
       "      <td>NaN</td>\n",
       "      <td>...</td>\n",
       "      <td>NaN</td>\n",
       "      <td>NaN</td>\n",
       "      <td>NaN</td>\n",
       "      <td>NaN</td>\n",
       "      <td>NaN</td>\n",
       "      <td>[]</td>\n",
       "      <td>NaN</td>\n",
       "      <td>NaN</td>\n",
       "      <td>NaN</td>\n",
       "      <td>NaN</td>\n",
       "    </tr>\n",
       "    <tr>\n",
       "      <th>3</th>\n",
       "      <td>1360679060263686145</td>\n",
       "      <td>1360679060263686145</td>\n",
       "      <td>2021-02-13 11:55:42 PST</td>\n",
       "      <td>2021-02-13</td>\n",
       "      <td>11:55:42</td>\n",
       "      <td>-800</td>\n",
       "      <td>1047877570740543489</td>\n",
       "      <td>k12ssdb</td>\n",
       "      <td>K-12 School Shooting Database</td>\n",
       "      <td>NaN</td>\n",
       "      <td>...</td>\n",
       "      <td>NaN</td>\n",
       "      <td>NaN</td>\n",
       "      <td>NaN</td>\n",
       "      <td>NaN</td>\n",
       "      <td>NaN</td>\n",
       "      <td>[]</td>\n",
       "      <td>NaN</td>\n",
       "      <td>NaN</td>\n",
       "      <td>NaN</td>\n",
       "      <td>NaN</td>\n",
       "    </tr>\n",
       "    <tr>\n",
       "      <th>4</th>\n",
       "      <td>1360339122540453890</td>\n",
       "      <td>1360334012917682177</td>\n",
       "      <td>2021-02-12 13:24:55 PST</td>\n",
       "      <td>2021-02-12</td>\n",
       "      <td>13:24:55</td>\n",
       "      <td>-800</td>\n",
       "      <td>59015205</td>\n",
       "      <td>mrsgreenberg</td>\n",
       "      <td>Ryann Greenberg 🇺🇸</td>\n",
       "      <td>NaN</td>\n",
       "      <td>...</td>\n",
       "      <td>NaN</td>\n",
       "      <td>NaN</td>\n",
       "      <td>NaN</td>\n",
       "      <td>NaN</td>\n",
       "      <td>NaN</td>\n",
       "      <td>[{'screen_name': 'SenRickScott', 'name': 'Rick...</td>\n",
       "      <td>NaN</td>\n",
       "      <td>NaN</td>\n",
       "      <td>NaN</td>\n",
       "      <td>NaN</td>\n",
       "    </tr>\n",
       "  </tbody>\n",
       "</table>\n",
       "<p>5 rows × 36 columns</p>\n",
       "</div>"
      ],
      "text/plain": [
       "                    id      conversation_id               created_at  \\\n",
       "0  1360682756297027584  1360682756297027584  2021-02-13 12:10:24 PST   \n",
       "1  1360681612757749761  1360681612757749761  2021-02-13 12:05:51 PST   \n",
       "2  1360679965650345984  1360679965650345984  2021-02-13 11:59:18 PST   \n",
       "3  1360679060263686145  1360679060263686145  2021-02-13 11:55:42 PST   \n",
       "4  1360339122540453890  1360334012917682177  2021-02-12 13:24:55 PST   \n",
       "\n",
       "         date      time  timezone              user_id      username  \\\n",
       "0  2021-02-13  12:10:24      -800  1047877570740543489       k12ssdb   \n",
       "1  2021-02-13  12:05:51      -800  1047877570740543489       k12ssdb   \n",
       "2  2021-02-13  11:59:18      -800  1047877570740543489       k12ssdb   \n",
       "3  2021-02-13  11:55:42      -800  1047877570740543489       k12ssdb   \n",
       "4  2021-02-12  13:24:55      -800             59015205  mrsgreenberg   \n",
       "\n",
       "                            name place  ... geo source user_rt_id user_rt  \\\n",
       "0  K-12 School Shooting Database   NaN  ... NaN    NaN        NaN     NaN   \n",
       "1  K-12 School Shooting Database   NaN  ... NaN    NaN        NaN     NaN   \n",
       "2  K-12 School Shooting Database   NaN  ... NaN    NaN        NaN     NaN   \n",
       "3  K-12 School Shooting Database   NaN  ... NaN    NaN        NaN     NaN   \n",
       "4             Ryann Greenberg 🇺🇸   NaN  ... NaN    NaN        NaN     NaN   \n",
       "\n",
       "  retweet_id                                           reply_to  retweet_date  \\\n",
       "0        NaN                                                 []           NaN   \n",
       "1        NaN                                                 []           NaN   \n",
       "2        NaN                                                 []           NaN   \n",
       "3        NaN                                                 []           NaN   \n",
       "4        NaN  [{'screen_name': 'SenRickScott', 'name': 'Rick...           NaN   \n",
       "\n",
       "   translate trans_src trans_dest  \n",
       "0        NaN       NaN        NaN  \n",
       "1        NaN       NaN        NaN  \n",
       "2        NaN       NaN        NaN  \n",
       "3        NaN       NaN        NaN  \n",
       "4        NaN       NaN        NaN  \n",
       "\n",
       "[5 rows x 36 columns]"
      ]
     },
     "execution_count": 92,
     "metadata": {},
     "output_type": "execute_result"
    }
   ],
   "source": [
    "df.head()"
   ]
  },
  {
   "cell_type": "code",
   "execution_count": 9,
   "metadata": {},
   "outputs": [],
   "source": [
    "'''\n",
    "Functions for preprocessing Tweets\n",
    "'''\n",
    "\n",
    "import emoji\n",
    "import re\n",
    "import string\n",
    "\n",
    "\n",
    "def remove_url(text):\n",
    "    just_text = re.sub(r\"http\\S+\", '', text, flags=re.MULTILINE)\n",
    "    return just_text\n",
    "\n",
    "\n",
    "def get_hashtags(text):\n",
    "    hashtags = re.findall(r\"\\B#\\w*[a-zA-Z]+\\w*\", text, flags=re.MULTILINE)\n",
    "    clean_hashtags = [word.replace(\"#\", \"\") for word in hashtags]\n",
    "    return clean_hashtags\n",
    "\n",
    "\n",
    "def remove_hashtags(text):\n",
    "    clean_text = re.sub(r\"\\B#\\w*[a-zA-Z]+\\w*\", \"\", text, flags=re.MULTILINE)\n",
    "    return clean_text\n",
    "\n",
    "\n",
    "def remove_rt_prefix(text):\n",
    "    clean_text = re.sub(r\"RT @\\w*[a-zA-Z]+\\w*:\", \"\", text, flags=re.MULTILINE)\n",
    "    return clean_text\n",
    "\n",
    "\n",
    "def make_alphanumeric(text):\n",
    "    clean_text = re.sub(r\"\\w*\\d\\w*\", \" \", text)\n",
    "    return clean_text\n",
    "\n",
    "\n",
    "def remove_punc(text):\n",
    "    clean_text = re.sub(r'[%s]' % re.escape(string.punctuation), ' ', text)\n",
    "    return clean_text\n",
    "\n",
    "\n",
    "### Dealing with Emojis ###\n",
    "\n",
    "def get_emojis(text):\n",
    "    emoji_list = [char for char in text if char in emoji.UNICODE_EMOJI]\n",
    "    return emoji_list\n",
    "\n",
    "\n",
    "def emoji_as_words(emoji_list):\n",
    "    emoji_literal = [emoji.demojize(em, delimiters=('', ''))\n",
    "                     for em in emoji_list]\n",
    "    return emoji_literal\n",
    "\n",
    "\n",
    "def emojize(emoji_literal_list):\n",
    "    emojified = [emoji.emojize(':' + em + ':') for em in emoji_literal_list]\n",
    "    return emojified\n",
    "\n",
    "\n",
    "\n",
    "def demojify(text):\n",
    "    regrex_pattern = re.compile(pattern=\"[\"\n",
    "                                u\"\\U0001F600-\\U0001F64F\"  # emoticons\n",
    "                                u\"\\U0001F300-\\U0001F5FF\"  # symbols & pictographs\n",
    "                                u\"\\U0001F680-\\U0001F6FF\"  # transport & map symbols\n",
    "                                u\"\\U0001F1E0-\\U0001F1FF\"  # flags (iOS)\n",
    "                                \"]+\", flags=re.UNICODE)\n",
    "    clean_text = regrex_pattern.sub(r'', text)\n",
    "    return clean_text\n",
    "\n",
    "\n",
    "### Compiled cleaning function ###\n",
    "\n",
    "def clean_tweet(tweet):\n",
    "    cleaned_tweet = demojify(remove_punc(\n",
    "        make_alphanumeric(remove_rt_prefix(remove_url(tweet))))).lower()\n",
    "    cleaned_tweet = re.sub(r\" +\", \" \", cleaned_tweet).strip()\n",
    "    cleaned_tweet = re.sub(r\"([^\\x00-\\x7F])+\", \" \", cleaned_tweet)\n",
    "    return cleaned_tweet"
   ]
  },
  {
   "cell_type": "code",
   "execution_count": 10,
   "metadata": {},
   "outputs": [
    {
     "name": "stdout",
     "output_type": "stream",
     "text": [
      "Wall time: 63 ms\n"
     ]
    }
   ],
   "source": [
    "tweets = df[['tweet']].astype(str)"
   ]
  },
  {
   "cell_type": "code",
   "execution_count": 11,
   "metadata": {},
   "outputs": [
    {
     "data": {
      "text/html": [
       "<div>\n",
       "<style scoped>\n",
       "    .dataframe tbody tr th:only-of-type {\n",
       "        vertical-align: middle;\n",
       "    }\n",
       "\n",
       "    .dataframe tbody tr th {\n",
       "        vertical-align: top;\n",
       "    }\n",
       "\n",
       "    .dataframe thead th {\n",
       "        text-align: right;\n",
       "    }\n",
       "</style>\n",
       "<table border=\"1\" class=\"dataframe\">\n",
       "  <thead>\n",
       "    <tr style=\"text-align: right;\">\n",
       "      <th></th>\n",
       "      <th>tweet</th>\n",
       "    </tr>\n",
       "  </thead>\n",
       "  <tbody>\n",
       "    <tr>\n",
       "      <th>0</th>\n",
       "      <td>Florida Gov. ordered a moment of silence at 3 ...</td>\n",
       "    </tr>\n",
       "    <tr>\n",
       "      <th>1</th>\n",
       "      <td>Threats of school violence appeared to increas...</td>\n",
       "    </tr>\n",
       "    <tr>\n",
       "      <th>2</th>\n",
       "      <td>A 20-year-old man is expected to make a full r...</td>\n",
       "    </tr>\n",
       "    <tr>\n",
       "      <th>3</th>\n",
       "      <td>Police found a 41YOF fatally shot near a back ...</td>\n",
       "    </tr>\n",
       "    <tr>\n",
       "      <th>4</th>\n",
       "      <td>@SenRickScott @marcorubio Words on the Senate ...</td>\n",
       "    </tr>\n",
       "  </tbody>\n",
       "</table>\n",
       "</div>"
      ],
      "text/plain": [
       "                                               tweet\n",
       "0  Florida Gov. ordered a moment of silence at 3 ...\n",
       "1  Threats of school violence appeared to increas...\n",
       "2  A 20-year-old man is expected to make a full r...\n",
       "3  Police found a 41YOF fatally shot near a back ...\n",
       "4  @SenRickScott @marcorubio Words on the Senate ..."
      ]
     },
     "execution_count": 11,
     "metadata": {},
     "output_type": "execute_result"
    }
   ],
   "source": [
    "tweets.head()"
   ]
  },
  {
   "cell_type": "code",
   "execution_count": 13,
   "metadata": {},
   "outputs": [
    {
     "name": "stdout",
     "output_type": "stream",
     "text": [
      "Wall time: 3.82 s\n"
     ]
    }
   ],
   "source": [
    "%%time\n",
    "tweets['clean'] = tweets['tweet'].map(clean_tweet)"
   ]
  },
  {
   "cell_type": "code",
   "execution_count": 14,
   "metadata": {},
   "outputs": [
    {
     "data": {
      "text/html": [
       "<div>\n",
       "<style scoped>\n",
       "    .dataframe tbody tr th:only-of-type {\n",
       "        vertical-align: middle;\n",
       "    }\n",
       "\n",
       "    .dataframe tbody tr th {\n",
       "        vertical-align: top;\n",
       "    }\n",
       "\n",
       "    .dataframe thead th {\n",
       "        text-align: right;\n",
       "    }\n",
       "</style>\n",
       "<table border=\"1\" class=\"dataframe\">\n",
       "  <thead>\n",
       "    <tr style=\"text-align: right;\">\n",
       "      <th></th>\n",
       "      <th>tweet</th>\n",
       "      <th>clean</th>\n",
       "    </tr>\n",
       "  </thead>\n",
       "  <tbody>\n",
       "    <tr>\n",
       "      <th>0</th>\n",
       "      <td>Florida Gov. ordered a moment of silence at 3 ...</td>\n",
       "      <td>florida gov ordered a moment of silence at p m...</td>\n",
       "    </tr>\n",
       "    <tr>\n",
       "      <th>1</th>\n",
       "      <td>Threats of school violence appeared to increas...</td>\n",
       "      <td>threats of school violence appeared to increas...</td>\n",
       "    </tr>\n",
       "    <tr>\n",
       "      <th>2</th>\n",
       "      <td>A 20-year-old man is expected to make a full r...</td>\n",
       "      <td>a year old man is expected to make a full reco...</td>\n",
       "    </tr>\n",
       "    <tr>\n",
       "      <th>3</th>\n",
       "      <td>Police found a 41YOF fatally shot near a back ...</td>\n",
       "      <td>police found a fatally shot near a back parkin...</td>\n",
       "    </tr>\n",
       "    <tr>\n",
       "      <th>4</th>\n",
       "      <td>@SenRickScott @marcorubio Words on the Senate ...</td>\n",
       "      <td>senrickscott marcorubio words on the senate fl...</td>\n",
       "    </tr>\n",
       "  </tbody>\n",
       "</table>\n",
       "</div>"
      ],
      "text/plain": [
       "                                               tweet  \\\n",
       "0  Florida Gov. ordered a moment of silence at 3 ...   \n",
       "1  Threats of school violence appeared to increas...   \n",
       "2  A 20-year-old man is expected to make a full r...   \n",
       "3  Police found a 41YOF fatally shot near a back ...   \n",
       "4  @SenRickScott @marcorubio Words on the Senate ...   \n",
       "\n",
       "                                               clean  \n",
       "0  florida gov ordered a moment of silence at p m...  \n",
       "1  threats of school violence appeared to increas...  \n",
       "2  a year old man is expected to make a full reco...  \n",
       "3  police found a fatally shot near a back parkin...  \n",
       "4  senrickscott marcorubio words on the senate fl...  "
      ]
     },
     "execution_count": 14,
     "metadata": {},
     "output_type": "execute_result"
    }
   ],
   "source": [
    "tweets.head()"
   ]
  },
  {
   "cell_type": "markdown",
   "metadata": {},
   "source": [
    "### An add'l cleaning step here would be setting up a hashtag dictionary so that all hashtags are appropriately handled - for example, '#parklandshooting' is bucketed with the other tweets on parkland, '#guncontrolnow' is bucketed with gun control, etc."
   ]
  },
  {
   "cell_type": "code",
   "execution_count": 91,
   "metadata": {},
   "outputs": [
    {
     "name": "stdout",
     "output_type": "stream",
     "text": [
      "The date range of the tweets in this dataset is:\n",
      "2009-03-11\n",
      "2021-02-13\n"
     ]
    }
   ],
   "source": [
    "print('The date range of the tweets in this dataset is:')\n",
    "print(df.date.min())\n",
    "print(df.date.max())"
   ]
  },
  {
   "cell_type": "markdown",
   "metadata": {},
   "source": [
    "## These next steps will remove stopwords from tweets and do a basic count of words"
   ]
  },
  {
   "cell_type": "code",
   "execution_count": 20,
   "metadata": {},
   "outputs": [
    {
     "data": {
      "text/plain": [
       "(323592, set)"
      ]
     },
     "execution_count": 20,
     "metadata": {},
     "output_type": "execute_result"
    }
   ],
   "source": [
    "english_words = list(nltk.corpus.words.words())\n",
    "english_words = [word.lower() for word in english_words]\n",
    "\n",
    "word_net = list(nltk.corpus.wordnet.words())\n",
    "word_net = [word.lower() for word in word_net]\n",
    "\n",
    "many_english_words = set(english_words + word_net)\n",
    "len(many_english_words), type(many_english_words)"
   ]
  },
  {
   "cell_type": "code",
   "execution_count": 24,
   "metadata": {},
   "outputs": [],
   "source": [
    "def word_freq(text, num_words=10, freq_thresh=1000):\n",
    "    all_words = []\n",
    "    for tweet in list(text):\n",
    "        words = tweet.split()\n",
    "        for word in words:\n",
    "            if word not in many_english_words:\n",
    "                all_words.append(word.lower())\n",
    "    \n",
    "    top_words = Counter(all_words).most_common(num_words)\n",
    "    \n",
    "    results_list = []\n",
    "    for pair in top_words:\n",
    "        if pair[1] > freq_thresh:\n",
    "            results_list.append(pair)\n",
    "            \n",
    "    return results_list"
   ]
  },
  {
   "cell_type": "code",
   "execution_count": 25,
   "metadata": {},
   "outputs": [
    {
     "data": {
      "text/plain": [
       "[('schoolshooting', 79134),\n",
       " ('guns', 5972),\n",
       " ('guncontrol', 5135),\n",
       " ('children', 4796),\n",
       " ('students', 4165),\n",
       " ('guncontrolnow', 3554),\n",
       " ('has', 3348),\n",
       " ('shootings', 3234),\n",
       " ('schools', 3231),\n",
       " ('prayers', 3106)]"
      ]
     },
     "execution_count": 25,
     "metadata": {},
     "output_type": "execute_result"
    }
   ],
   "source": [
    "word_freq(tweets['clean'], num_words=10, freq_thresh=500)"
   ]
  },
  {
   "cell_type": "markdown",
   "metadata": {},
   "source": [
    "## Next is using the Corex Topics library to split the tweets into main topics and determine the top tweets w/in each topic. This brings some interesting results (and shows there is still quite a bit of noise in the collected tweets) but ultimately I think the next process of using LDA to split the tweets by topic is more useful"
   ]
  },
  {
   "cell_type": "code",
   "execution_count": 27,
   "metadata": {},
   "outputs": [],
   "source": [
    "proc_tweets = tweets.clean"
   ]
  },
  {
   "cell_type": "code",
   "execution_count": 28,
   "metadata": {},
   "outputs": [],
   "source": [
    "vectorizer = CountVectorizer(token_pattern=\"\\\\b[a-z][a-z]+\\\\b\",\n",
    "                             binary=True,\n",
    "                             stop_words='english')\n",
    "\n",
    "doc_word = vectorizer.fit_transform(proc_tweets)\n",
    "words = list(np.asarray(vectorizer.get_feature_names()))"
   ]
  },
  {
   "cell_type": "code",
   "execution_count": 29,
   "metadata": {},
   "outputs": [],
   "source": [
    "def corex_topics(topic_model):\n",
    "    topics = topic_model.get_topics()\n",
    "    for n,topic in enumerate(topics):\n",
    "        topic_words,_ = zip(*topic)\n",
    "        print('Topic {} keywords: '.format(n) + ', '.join(topic_words))"
   ]
  },
  {
   "cell_type": "code",
   "execution_count": 30,
   "metadata": {},
   "outputs": [],
   "source": [
    "def plot_topics(topic_model):\n",
    "    plt.figure(figsize=(10,5))\n",
    "    plt.bar(range(topic_model.tcs.shape[0]), topic_model.tcs, color='#4e79a7', width=0.5)\n",
    "    plt.xlabel('Topic', fontsize=14)\n",
    "    plt.ylabel('Total Correlation (nats)', fontsize=14)\n",
    "    plt.title(\"CorEx Topic Correlation\")\n",
    "    sns.despine()\n",
    "    plt.show()"
   ]
  },
  {
   "cell_type": "code",
   "execution_count": 31,
   "metadata": {},
   "outputs": [],
   "source": [
    "def show_top_tweets(topic_model, num_tweets_to_show):\n",
    "    topics = topic_model.get_topics()\n",
    "    for i in range(len(topics)):\n",
    "        print(f'Topic {i}')\n",
    "        top_tweets = [tweet[0] for tweet in topic_model.get_top_docs(topic=i, n_docs=num_tweets_to_show)]\n",
    "        for i in range(len(top_tweets)):\n",
    "            print(f\"{i+1}) {top_tweets[i]}\")\n",
    "        print(\"\")"
   ]
  },
  {
   "cell_type": "code",
   "execution_count": 32,
   "metadata": {},
   "outputs": [
    {
     "data": {
      "text/plain": [
       "<corextopic.corextopic.Corex at 0x14e1e084a08>"
      ]
     },
     "execution_count": 32,
     "metadata": {},
     "output_type": "execute_result"
    }
   ],
   "source": [
    "topic_model = ct.Corex(n_hidden=10, \n",
    "                       words=words,\n",
    "                       max_iter=100, \n",
    "                       seed=42)\n",
    "\n",
    "topic_model.fit(doc_word, words=words, docs=proc_tweets)"
   ]
  },
  {
   "cell_type": "code",
   "execution_count": 33,
   "metadata": {},
   "outputs": [
    {
     "name": "stdout",
     "output_type": "stream",
     "text": [
      "Topic 0 keywords: speakers, leiden, en, keynote, events, thecamelproject, summit, een, retreat, standupnow\n",
      "Topic 1 keywords: inter, implications, model, visa, sumofus, understood, eager, mind, calling, starkauthor\n",
      "Topic 2 keywords: school, shooting, high, suspect, police, student, dead, shot, injured, custody\n",
      "Topic 3 keywords: santa, bullied, abroad, japan, americans, clarita, bullying, immigrate, migrate, fe\n",
      "Topic 4 keywords: gun, don, control, need, laws, like, think, people, kids, children\n",
      "Topic 5 keywords: nra, realdonaldtrump, gop, guncontrolnow, trump, guncontrol, gunreformnow, maga, potus, nrabloodmoney\n",
      "Topic 6 keywords: schools, security, mental, health, shootings, safety, armed, connecticut, social, schoolsafety\n",
      "Topic 7 keywords: parkland, florida, floridashooting, floridaschoolshooting, neveragain, parklandshooting, broward, parklandschoolshooting, douglas, stoneman\n",
      "Topic 8 keywords: prayers, families, thoughts, heart, sandy, victims, hook, affected, praying, goes\n",
      "Topic 9 keywords: amp, support, drills, safe, help, active, run, normal, just, make\n"
     ]
    }
   ],
   "source": [
    "corex_topics(topic_model)"
   ]
  },
  {
   "cell_type": "code",
   "execution_count": 34,
   "metadata": {},
   "outputs": [
    {
     "data": {
      "image/png": "[encoded data removed]",
      "text/plain": [
       "<Figure size 720x360 with 1 Axes>"
      ]
     },
     "metadata": {
      "needs_background": "light"
     },
     "output_type": "display_data"
    }
   ],
   "source": [
    "%matplotlib inline\n",
    "plot_topics(topic_model)"
   ]
  },
  {
   "cell_type": "code",
   "execution_count": 35,
   "metadata": {},
   "outputs": [
    {
     "name": "stdout",
     "output_type": "stream",
     "text": [
      "Topic 0\n",
      "1) starkauthor on going viral amp bringing sandy hook las vegas amp parkland shooting survivors together watch here keynotes bullying antibullying schoolshooting confidence empowerment standupnow thecamelproject events bookings dm mjaspeakers\n",
      "2) in the end the psychopathology of school shooters can be distilled into just two distinguishing factors   youtubeshooting msdstrong newtown schoolshooting kindleunlimited\n",
      "3) ya est n llegando los seres queridos de alyssa alhadeff de a os de edad a su servicio funebre en north lauderdale es el primero de funerales tras las masacre en la escuela marjory stoneman douglas m s detalles en su noticiero local telemundo al medio d a schoolshooting\n",
      "4) keynote speakers pgockley starkauthor amp meredith o connor antibullying icon support thecamel project via youtube panelist conference summit women retreat stopbullying bullying womenwholead schoolshooting moms bookings dm mjaspeakers\n",
      "5) keynote speakers pgockley starkauthor amp meredith o connor antibullying icon support thecamelproject via youtube panelist conference retreat women summit schoolshooting santafe sandyhook parkland oregon vegas bookings dm mjaspeakers\n",
      "\n",
      "Topic 1\n",
      "1) starkauthor captivated tedx boulder with i was almost a school shooter via youtube keynote speakers conference event summit retreat schoolshooting nra education principals teachers leadership standupnow bullying antibullying events\n",
      "2) the school shooting epidemic is a symptom of a problem of the mind these school shooters might not be so eager to do what they do if they understood the full implications of the inter mind model at texasshooting schoolshooting guncontrol\n",
      "3) school shootings are a symptom of a problem of the mind these school shooters might not be so eager to do what they do if they understood the full implications of the inter mind model at texasshooting schoolshooting guncontrol\n",
      "4) school shootings are a problem of the mind these school shooters might not be so eager to do what they do if they understood the full implications of the inter mind model at texasshooting schoolshooting guncontrol\n",
      "5) it s the culture stupid the unifying theme of these shootings is the direct result of an amoral indecent uncivil society that reflects the ideals of the left tcot schoolshooting schoolshootings\n",
      "\n",
      "Topic 2\n",
      "1) breaking los angeles ap police students shot inside los angeles middle school classroom female student suspect in custody lapdhq losangeles schoolshooting\n",
      "2)   moments santafe texas schoolshooting less than dead mostly students and adult staff police ofc inj shooter other incustody santafeisd santafeisd rpt explosive devices found on off campus parents reunite alamogym santafehs santafehighschool shooting\n",
      "3) updated the harris co sheriff says people mostly students are dead several others injured after a shooting at sante fe high school a police officer is among the injured the suspected shooter a student is in custody schoolshooting\n",
      "4) the wounded boy ran back to school for help brick police and administrators locked down the high school teen shooter now charged as adult schoolshooting policefreeschools story by dailyvoicesa\n",
      "5) cedar ridge high school principal intisar hamidullah who failed to report a schoolshooting threat in may has been reassigned orangecoschools interim superintendent randy bridges confirmed wednesday\n",
      "\n",
      "Topic 3\n",
      "1) everyone high school students who hate guns and bullying will not migrate to japan rather than wasting youth to hate guns and bullying japan has few guns also americans are hardly bullied even if can not immigrate can study abroad bully schoolshooting weeb\n",
      "2) there are few guns americans are hard to be bullied bullying schoolshooting abroad abroadinjapan\n",
      "3) high school students who are being bullied by being called geeks or nerds in the us recommend to migrate to japan if you come to japan americans can be jock or queen bee you will not be bullied bullying schoolshooting gunviolence\n",
      "4) japan has few guns also americans are hardly bullied even if can not immigrate can study abroad bully schoolshooting weeb\n",
      "5) there are few guns americans are hard to be bullied bullying schoolshooting abroad abroadinjapan\n",
      "\n",
      "Topic 4\n",
      "1)   stevenbward sickness and selfishness are real evil is perceived evil is real schoolshooting sandyhook cowboycerrone\n",
      "2) and here we go again florida schoolshooting guncontrol does anyone in the usa even care that their citizens and continually being slaughtered in this way are they so immune to it trump realdonad trump certainly doesn t burying his head in the sand as ever potus\n",
      "3) idiots on the right claiming he s a democrat acting like they won something assholes this has to stop fact he had an ar is it still too early to talk about gun control thoughtsandprayers endgunviolence guncontrol parkland nicholascruz schoolshooting\n",
      "4) elizabethforma this just in in order to solve the schoolshooting epidemic and since saner gun ownership is lol potus amp gop are now working on a new innovative policy to ban schools this has the added benefit of preventing our youth being fed such dangerous things as knowledge amp facts\n",
      "5) i hate when people accuse you of politicizing gunviolence now is not the time they say not the place for this discussion they shout okay i ll bring it up in two weeks when you and your high fucking horse forget all about this schoolshooting as well nowisthetime\n",
      "\n",
      "Topic 5\n",
      "1) cjpatruno you ve taken million in blood money from the nra how do you sleep at night royblunt guncontolnow gunreformnow gunlawsnow gop has nra bloodmoney bloodonyourhands parkland schoolshooting florida douglasstrong\n",
      "2) until these vile stiff corrupt businessmenwomen s child ren got killed by gunviolence nor schoolshooting only then they ll support banassaultweapons shame on danaloesch bloodontheirhands republicans nra studentsstandup enoughisenough studentsvictims neveragain\n",
      "3) eastlamm realdonaldtrump lindseygrahamsc senatortimscott how is there still any doubt trump s reaction to every single human tragedy is always the same climateemergency hurricanes flooding wildfires holocaust electionsintegrity schoolshooting antichrist trumpisevil trumpmustbestopped biggestloser donaldtrump\n",
      "4) mr rubio you have no compassion for children there s been another school shooting sir which makes you complicit given your undying allegiance to the nra please take action to protect kids from gun violence now anotherone schoolshooting nrabloodmoney gopcomplicit\n",
      "5) senatemajldr massacremitch is holding up bills passed by the house from debate or vote this tweet by moscowmitch is pure propaganda and disinformation enoughisenough schoolshooting nora\n",
      "\n",
      "Topic 6\n",
      "1)  stationing police in schools worsens the  school to prison pipeline  by criminalizing student behavior that could be handled by internal school discipline   crimpapers crimtwitter schoolshooting policefreeschools story by thecrimereport\n",
      "2) just to be clear realdonaldtrump no one who could plan a shooting carry it out amp then determine to ditch it amp blend in with the crowd to escape has a mental illness he s a monster still no excuse to escape jail and sit in a cushy hospital room on my tax dollar schoolshooting\n",
      "3) schoolshooting there are no mental health services available for those who are a danger to themselves or others other than a hr baker act period\n",
      "4) schoolshooting controllaccess full height turnstiles will help to keep out dangerous individuals along with school entrances being locked metal detection a security guard and some good parenting it is a multi layered problem that needs to be addressed at all levels\n",
      "5) new mapping tool allows you to sort filter and download years of schoolshooting data crimtwitter datadashboard database dataanalytics datascience\n",
      "\n",
      "Topic 7\n",
      "1) student survivors coached by democrats former republican congressman jack kingston questions whether teens who survived the parkland florida schoolshooting can plan a nationwide anti gun rally if you believe that you must be out of your mind\n",
      "2)  i feel today like our government our country has failed us and failed our kids and didn t keep us safe   u s schoolshooting melissa falkowski a teacher at marjory stoneman douglas high school in parkland florida\n",
      "3) stocks to own prior to the market stabilizing feature atwt discuss infn crm mu pfpt okta bah lhx schoolshooting mentalhealth\n",
      "4) floridaschoolshooting schoolshooting shooting florida foxnews foxnews parklandfl marjory stoneman high school\n",
      "5) schoolshooting schoolshootings parklandshooting flgovscott protection students education diamondandsilk fbiknew fbi s wrayresign parkland s sheriffisraelresign a goodguywithagun a goodgalwithagun\n",
      "\n",
      "Topic 8\n",
      "1)           dank memes stolen spicy edgymemes spongebob thot edgy  schoolshooting idubbz filthyfrank maxmoefoe roblox noob emo anime boi lit nani \n",
      "2) bet the names amp ages of each victim lost in the sandy hook elementary schoolshooting weremember prayfornewtown\n",
      "3) newtown plans quiet anniversary of schoolshooting newtown plans quiet remembrances ringing of bells to mark\n",
      "4) years after sandy hook and america has learned nothing has done nothing guncontrolnow gunviolence nrabloodmoney schoolshooting socialjustice terror activism community education sjsa quilt art craftivism textiles\n",
      "5) this is truth sad pathetic obvious truth families missing a loved one due to the gutlessness and moral turpitude of the gop and the nra florida schoolshooting\n",
      "\n",
      "Topic 9\n"
     ]
    },
    {
     "name": "stdout",
     "output_type": "stream",
     "text": [
      "1) spikes tactical out of apopka fl thinks a bump stock with a setting for libturds is a gem and the ever greasy realalexjones retweets this trash while the news is still coming in about the fl high school shooting disgusting schoolshooting thoughtsandprayers\n",
      "2) are all these school shootings giving the impression the wrong impression that klids today are just aholes schoolshooting guncontrol\n",
      "3) pay legit company payessay pay homework pay assignment pay online class pay chemistry pay biology pay history pay research paper pay lab report pay stats pay sociology pay economics pay accounting essayhelp schoolshooting\n",
      "4) i don t have the words to adequately convey how i feel about today s schoolshooting i m legitimately baffled school shooting of the very young year should make everyone question what is happening in our country stopgunviolencenow\n",
      "5) the fact that we ve accepted schoolshooting as inevitable is the final nail in our coffin as a civilized country americans have now officially devolved to our most primitive selves barbarians gunsensenow banassaultrifles\n",
      "\n"
     ]
    }
   ],
   "source": [
    "show_top_tweets(topic_model, 5)"
   ]
  },
  {
   "cell_type": "markdown",
   "metadata": {},
   "source": [
    "## Setting up LDA model to split tweets by topic, assign topic labels according to most common words w/in each topic group, then put similar topics together for further analysis"
   ]
  },
  {
   "cell_type": "code",
   "execution_count": 38,
   "metadata": {},
   "outputs": [],
   "source": [
    "proc_tweets = tweets.clean"
   ]
  },
  {
   "cell_type": "code",
   "execution_count": 39,
   "metadata": {},
   "outputs": [],
   "source": [
    "vectorizer = CountVectorizer(token_pattern=\"\\\\b[a-z][a-z]+\\\\b\",\n",
    "                             binary=True,\n",
    "                             stop_words='english')"
   ]
  },
  {
   "cell_type": "code",
   "execution_count": 40,
   "metadata": {},
   "outputs": [
    {
     "name": "stdout",
     "output_type": "stream",
     "text": [
      "(78973, 59488)\n"
     ]
    }
   ],
   "source": [
    "dtm_tf = vectorizer.fit_transform(proc_tweets)\n",
    "print(dtm_tf.shape)"
   ]
  },
  {
   "cell_type": "code",
   "execution_count": 42,
   "metadata": {},
   "outputs": [
    {
     "name": "stdout",
     "output_type": "stream",
     "text": [
      "Wall time: 8min 34s\n"
     ]
    }
   ],
   "source": [
    "%%time\n",
    "\n",
    "lda_model = LatentDirichletAllocation(n_components=12, \n",
    "                                      random_state=42, \n",
    "                                      n_jobs=-1,\n",
    "                                      max_iter=200\n",
    "                                     )\n",
    "\n",
    "\n",
    "lda_model.fit(dtm_tf)\n",
    "\n",
    "lda_doc_matrix = lda_model.transform(dtm_tf)"
   ]
  },
  {
   "cell_type": "code",
   "execution_count": 43,
   "metadata": {},
   "outputs": [],
   "source": [
    "def display_topics(model, feature_names, no_top_words, topic_names=None):\n",
    "    for ix, topic in enumerate(model.components_):\n",
    "        if not topic_names or not topic_names[ix]:\n",
    "            print(\"\\nTopic \", ix)\n",
    "        else:\n",
    "            print(\"\\nTopic: '\",topic_names[ix],\"'\")\n",
    "        print(\", \".join([feature_names[i]\n",
    "                        for i in topic.argsort()[:-no_top_words - 1:-1]]))"
   ]
  },
  {
   "cell_type": "code",
   "execution_count": 48,
   "metadata": {},
   "outputs": [
    {
     "name": "stdout",
     "output_type": "stream",
     "text": [
      "\n",
      "Topic  0\n",
      "schoolshooting, school, schools, shooters, schoolsafety, guncontrol, security, mind, safety, shooting, problem, model, texasshooting, inter, implications, understood, shootings, eager, activeshooter, massshooting, minds, check, students, people, education, latest, lockdown, armed, teachers, schoolshootings\n",
      "\n",
      "Topic  1\n",
      "schoolshooting, texas, news, santafe, youtube, usa, amp, progress, smh, women, basketball, trump, obama, conference, covid, president, join, dm, bookings, speak, mjaspeakers, tweets, speakers, keynote, education, wtf, starkauthor, biden, summit, kids\n",
      "\n",
      "Topic  2\n",
      "schoolshooting, prayers, connecticut, families, thoughts, children, newtown, victims, sad, shooting, heart, today, school, kids, ct, tragedy, dead, amp, praying, elementary, pray, people, goes, affected, god, sandyhook, lost, day, just, news\n",
      "\n",
      "Topic  3\n",
      "schoolshooting, safe, kids, school, support, amp, building, group, plot, teenagers, lies, bullies, club, form, revenge, secrets, truths, discovering, shattering, uncovering, cindyvine, climax, parenting, columbine, sandyhook, answers, nra, media, question, parent\n",
      "\n",
      "Topic  4\n",
      "schoolshooting, school, shootings, shooting, mass, year, years, news, gun, violence, america, amp, guns, kentucky, days, today, guncontrol, columbine, ago, week, schools, usa, crime, states, stop, like, day, cbs, home, time\n",
      "\n",
      "Topic  5\n",
      "schoolshooting, new, shooter, active, heartbreaking, sandy, just, drills, run, hook, normal, students, said, end, survived, help, saugushigh, learned, calling, visa, sumofus, members, columbine, newtown, sign, massacre, lanza, petition, school, sandyhook\n",
      "\n",
      "Topic  6\n",
      "schoolshooting, americans, bullying, guns, bullied, live, saugushigh, hard, die, children, tragedy, finally, stop, violence, calling, gunviolence, school, carnage, abroad, japan, abroadinjapan, come, powerful, enoughisenough, visa, sumofus, students, coverage, gun, called\n",
      "\n",
      "Topic  7\n",
      "schoolshooting, parkland, florida, school, shooter, shooting, fbi, media, amp, police, video, students, broward, parklandshooting, hero, story, trump, teacher, floridaschoolshooting, schools, fl, douglas, student, news, floridashooting, nikolascruz, stoneman, stonemandouglas, social, stonemanshooting\n",
      "\n",
      "Topic  8\n",
      "schoolshooting, bullying, guns, school, study, hate, americans, youth, bullied, hardly, japan, abroad, immigrate, bully, high, students, weeb, events, leiden, wasting, migrate, love, education, did, sandyhook, starkauthor, antibullying, youtube, racist, teachers\n",
      "\n",
      "Topic  9\n",
      "schoolshooting, nra, guncontrol, guncontrolnow, gun, realdonaldtrump, guns, gop, trump, gunreformnow, neveragain, parkland, gunviolence, teachers, gunsense, control, enoughisenough, floridashooting, florida, maga, marchforourlives, amp, mental, time, potus, children, america, floridaschoolshooting, need, congress\n",
      "\n",
      "Topic  10\n",
      "schoolshooting, people, kids, don, gun, just, children, like, guns, know, need, america, school, stop, think, going, right, time, make, change, want, amp, let, country, nra, really, lives, does, today, world\n",
      "\n",
      "Topic  11\n",
      "schoolshooting, school, shooting, high, dead, police, shot, student, suspect, shooter, killed, students, old, year, injured, breaking, santa, story, gunman, texas, news, custody, california, say, teacher, maryland, colorado, people, says, saugus\n"
     ]
    }
   ],
   "source": [
    "terms = vectorizer.get_feature_names()\n",
    "\n",
    "display_topics(lda_model, terms, 30)"
   ]
  },
  {
   "cell_type": "code",
   "execution_count": 47,
   "metadata": {},
   "outputs": [
    {
     "data": {
      "text/plain": [
       "(78973, 12)"
      ]
     },
     "execution_count": 47,
     "metadata": {},
     "output_type": "execute_result"
    }
   ],
   "source": [
    "lda_doc_matrix.shape"
   ]
  },
  {
   "cell_type": "markdown",
   "metadata": {},
   "source": [
    "## This is just my interpretation of the topics according to the results above. This is just a first pass and could be done differently (gun control should probably be in the mix of topics, but since we are primarily concerned with the Sandy Hook and Parkland shootings, assigning all topics perfectly is not as necessary at this step, but could be revisited if further analysis will be done using this as a starting place.)"
   ]
  },
  {
   "cell_type": "code",
   "execution_count": 49,
   "metadata": {},
   "outputs": [],
   "source": [
    "topic_cols = ['texasshooting', 'general', 'sandyhook_1', 'columbine_1', 'columbine_2', 'sandyhook_2', 'saugushigh', 'parkland_1', 'sandyhook_3', 'parkland_2', 'general_2', 'saugushigh_2']"
   ]
  },
  {
   "cell_type": "code",
   "execution_count": 50,
   "metadata": {},
   "outputs": [],
   "source": [
    "lda_df = pd.DataFrame(lda_doc_matrix, columns=topic_cols)"
   ]
  },
  {
   "cell_type": "code",
   "execution_count": 67,
   "metadata": {},
   "outputs": [
    {
     "data": {
      "text/html": [
       "<div>\n",
       "<style scoped>\n",
       "    .dataframe tbody tr th:only-of-type {\n",
       "        vertical-align: middle;\n",
       "    }\n",
       "\n",
       "    .dataframe tbody tr th {\n",
       "        vertical-align: top;\n",
       "    }\n",
       "\n",
       "    .dataframe thead th {\n",
       "        text-align: right;\n",
       "    }\n",
       "</style>\n",
       "<table border=\"1\" class=\"dataframe\">\n",
       "  <thead>\n",
       "    <tr style=\"text-align: right;\">\n",
       "      <th></th>\n",
       "      <th>texasshooting</th>\n",
       "      <th>general</th>\n",
       "      <th>sandyhook_1</th>\n",
       "      <th>columbine_1</th>\n",
       "      <th>columbine_2</th>\n",
       "      <th>sandyhook_2</th>\n",
       "      <th>saugushigh</th>\n",
       "      <th>parkland_1</th>\n",
       "      <th>sandyhook_3</th>\n",
       "      <th>parkland_2</th>\n",
       "      <th>general_2</th>\n",
       "      <th>saugushigh_2</th>\n",
       "      <th>sandyhook</th>\n",
       "      <th>parkland</th>\n",
       "      <th>columbine</th>\n",
       "    </tr>\n",
       "  </thead>\n",
       "  <tbody>\n",
       "    <tr>\n",
       "      <th>0</th>\n",
       "      <td>0.003623</td>\n",
       "      <td>0.007247</td>\n",
       "      <td>0.182142</td>\n",
       "      <td>0.003623</td>\n",
       "      <td>0.117943</td>\n",
       "      <td>0.003623</td>\n",
       "      <td>0.213279</td>\n",
       "      <td>0.464896</td>\n",
       "      <td>0.003623</td>\n",
       "      <td>0.003623</td>\n",
       "      <td>0.003623</td>\n",
       "      <td>0.003623</td>\n",
       "      <td>0.200258</td>\n",
       "      <td>0.468520</td>\n",
       "      <td>0.125189</td>\n",
       "    </tr>\n",
       "    <tr>\n",
       "      <th>1</th>\n",
       "      <td>0.005556</td>\n",
       "      <td>0.141670</td>\n",
       "      <td>0.005556</td>\n",
       "      <td>0.005556</td>\n",
       "      <td>0.608745</td>\n",
       "      <td>0.005556</td>\n",
       "      <td>0.415833</td>\n",
       "      <td>0.005556</td>\n",
       "      <td>0.005556</td>\n",
       "      <td>0.005556</td>\n",
       "      <td>0.005556</td>\n",
       "      <td>0.205138</td>\n",
       "      <td>0.163893</td>\n",
       "      <td>0.011112</td>\n",
       "      <td>0.619857</td>\n",
       "    </tr>\n",
       "    <tr>\n",
       "      <th>2</th>\n",
       "      <td>0.084111</td>\n",
       "      <td>0.008772</td>\n",
       "      <td>0.004386</td>\n",
       "      <td>0.004386</td>\n",
       "      <td>0.004386</td>\n",
       "      <td>0.004386</td>\n",
       "      <td>0.951643</td>\n",
       "      <td>0.199003</td>\n",
       "      <td>0.004386</td>\n",
       "      <td>0.208169</td>\n",
       "      <td>0.004386</td>\n",
       "      <td>0.473628</td>\n",
       "      <td>0.026317</td>\n",
       "      <td>0.407171</td>\n",
       "      <td>0.013158</td>\n",
       "    </tr>\n",
       "    <tr>\n",
       "      <th>3</th>\n",
       "      <td>0.007576</td>\n",
       "      <td>0.015152</td>\n",
       "      <td>0.007576</td>\n",
       "      <td>0.007576</td>\n",
       "      <td>0.007576</td>\n",
       "      <td>0.007576</td>\n",
       "      <td>1.631694</td>\n",
       "      <td>0.112183</td>\n",
       "      <td>0.007576</td>\n",
       "      <td>0.007576</td>\n",
       "      <td>0.007576</td>\n",
       "      <td>0.812059</td>\n",
       "      <td>0.045455</td>\n",
       "      <td>0.119758</td>\n",
       "      <td>0.022727</td>\n",
       "    </tr>\n",
       "    <tr>\n",
       "      <th>4</th>\n",
       "      <td>0.005208</td>\n",
       "      <td>0.010417</td>\n",
       "      <td>0.259255</td>\n",
       "      <td>0.005208</td>\n",
       "      <td>0.005208</td>\n",
       "      <td>0.005208</td>\n",
       "      <td>0.015625</td>\n",
       "      <td>0.005208</td>\n",
       "      <td>0.005208</td>\n",
       "      <td>0.688661</td>\n",
       "      <td>0.005209</td>\n",
       "      <td>0.005208</td>\n",
       "      <td>0.285298</td>\n",
       "      <td>0.693869</td>\n",
       "      <td>0.015625</td>\n",
       "    </tr>\n",
       "  </tbody>\n",
       "</table>\n",
       "</div>"
      ],
      "text/plain": [
       "   texasshooting   general  sandyhook_1  columbine_1  columbine_2  \\\n",
       "0       0.003623  0.007247     0.182142     0.003623     0.117943   \n",
       "1       0.005556  0.141670     0.005556     0.005556     0.608745   \n",
       "2       0.084111  0.008772     0.004386     0.004386     0.004386   \n",
       "3       0.007576  0.015152     0.007576     0.007576     0.007576   \n",
       "4       0.005208  0.010417     0.259255     0.005208     0.005208   \n",
       "\n",
       "   sandyhook_2  saugushigh  parkland_1  sandyhook_3  parkland_2  general_2  \\\n",
       "0     0.003623    0.213279    0.464896     0.003623    0.003623   0.003623   \n",
       "1     0.005556    0.415833    0.005556     0.005556    0.005556   0.005556   \n",
       "2     0.004386    0.951643    0.199003     0.004386    0.208169   0.004386   \n",
       "3     0.007576    1.631694    0.112183     0.007576    0.007576   0.007576   \n",
       "4     0.005208    0.015625    0.005208     0.005208    0.688661   0.005209   \n",
       "\n",
       "   saugushigh_2  sandyhook  parkland  columbine  \n",
       "0      0.003623   0.200258  0.468520   0.125189  \n",
       "1      0.205138   0.163893  0.011112   0.619857  \n",
       "2      0.473628   0.026317  0.407171   0.013158  \n",
       "3      0.812059   0.045455  0.119758   0.022727  \n",
       "4      0.005208   0.285298  0.693869   0.015625  "
      ]
     },
     "execution_count": 67,
     "metadata": {},
     "output_type": "execute_result"
    }
   ],
   "source": [
    "lda_df.head()"
   ]
  },
  {
   "cell_type": "code",
   "execution_count": 68,
   "metadata": {},
   "outputs": [],
   "source": [
    "lda_df['sandyhook'] = lda_df['sandyhook_1'] + lda_df['sandyhook_2'] + lda_df['sandyhook_3']\n",
    "lda_df['general'] = lda_df['general'] + lda_df['general_2']\n",
    "lda_df['parkland'] = lda_df['parkland_1'] + lda_df['parkland_2']\n",
    "lda_df['columbine'] = lda_df['columbine_1'] + lda_df['columbine']\n",
    "lda_df['saugushigh'] = lda_df['saugushigh'] + lda_df['saugushigh_2']"
   ]
  },
  {
   "cell_type": "code",
   "execution_count": 69,
   "metadata": {},
   "outputs": [
    {
     "data": {
      "text/html": [
       "<div>\n",
       "<style scoped>\n",
       "    .dataframe tbody tr th:only-of-type {\n",
       "        vertical-align: middle;\n",
       "    }\n",
       "\n",
       "    .dataframe tbody tr th {\n",
       "        vertical-align: top;\n",
       "    }\n",
       "\n",
       "    .dataframe thead th {\n",
       "        text-align: right;\n",
       "    }\n",
       "</style>\n",
       "<table border=\"1\" class=\"dataframe\">\n",
       "  <thead>\n",
       "    <tr style=\"text-align: right;\">\n",
       "      <th></th>\n",
       "      <th>texasshooting</th>\n",
       "      <th>general</th>\n",
       "      <th>sandyhook_1</th>\n",
       "      <th>columbine_1</th>\n",
       "      <th>columbine_2</th>\n",
       "      <th>sandyhook_2</th>\n",
       "      <th>saugushigh</th>\n",
       "      <th>parkland_1</th>\n",
       "      <th>sandyhook_3</th>\n",
       "      <th>parkland_2</th>\n",
       "      <th>general_2</th>\n",
       "      <th>saugushigh_2</th>\n",
       "      <th>sandyhook</th>\n",
       "      <th>parkland</th>\n",
       "      <th>columbine</th>\n",
       "    </tr>\n",
       "  </thead>\n",
       "  <tbody>\n",
       "    <tr>\n",
       "      <th>0</th>\n",
       "      <td>0.003623</td>\n",
       "      <td>0.010870</td>\n",
       "      <td>0.182142</td>\n",
       "      <td>0.003623</td>\n",
       "      <td>0.117943</td>\n",
       "      <td>0.003623</td>\n",
       "      <td>0.216903</td>\n",
       "      <td>0.464896</td>\n",
       "      <td>0.003623</td>\n",
       "      <td>0.003623</td>\n",
       "      <td>0.003623</td>\n",
       "      <td>0.003623</td>\n",
       "      <td>0.189388</td>\n",
       "      <td>0.468520</td>\n",
       "      <td>0.128813</td>\n",
       "    </tr>\n",
       "    <tr>\n",
       "      <th>1</th>\n",
       "      <td>0.005556</td>\n",
       "      <td>0.147226</td>\n",
       "      <td>0.005556</td>\n",
       "      <td>0.005556</td>\n",
       "      <td>0.608745</td>\n",
       "      <td>0.005556</td>\n",
       "      <td>0.620971</td>\n",
       "      <td>0.005556</td>\n",
       "      <td>0.005556</td>\n",
       "      <td>0.005556</td>\n",
       "      <td>0.005556</td>\n",
       "      <td>0.205138</td>\n",
       "      <td>0.016667</td>\n",
       "      <td>0.011112</td>\n",
       "      <td>0.625413</td>\n",
       "    </tr>\n",
       "    <tr>\n",
       "      <th>2</th>\n",
       "      <td>0.084111</td>\n",
       "      <td>0.013159</td>\n",
       "      <td>0.004386</td>\n",
       "      <td>0.004386</td>\n",
       "      <td>0.004386</td>\n",
       "      <td>0.004386</td>\n",
       "      <td>1.425271</td>\n",
       "      <td>0.199003</td>\n",
       "      <td>0.004386</td>\n",
       "      <td>0.208169</td>\n",
       "      <td>0.004386</td>\n",
       "      <td>0.473628</td>\n",
       "      <td>0.013158</td>\n",
       "      <td>0.407171</td>\n",
       "      <td>0.017545</td>\n",
       "    </tr>\n",
       "    <tr>\n",
       "      <th>3</th>\n",
       "      <td>0.007576</td>\n",
       "      <td>0.022727</td>\n",
       "      <td>0.007576</td>\n",
       "      <td>0.007576</td>\n",
       "      <td>0.007576</td>\n",
       "      <td>0.007576</td>\n",
       "      <td>2.443753</td>\n",
       "      <td>0.112183</td>\n",
       "      <td>0.007576</td>\n",
       "      <td>0.007576</td>\n",
       "      <td>0.007576</td>\n",
       "      <td>0.812059</td>\n",
       "      <td>0.022728</td>\n",
       "      <td>0.119758</td>\n",
       "      <td>0.030303</td>\n",
       "    </tr>\n",
       "    <tr>\n",
       "      <th>4</th>\n",
       "      <td>0.005208</td>\n",
       "      <td>0.015626</td>\n",
       "      <td>0.259255</td>\n",
       "      <td>0.005208</td>\n",
       "      <td>0.005208</td>\n",
       "      <td>0.005208</td>\n",
       "      <td>0.020833</td>\n",
       "      <td>0.005208</td>\n",
       "      <td>0.005208</td>\n",
       "      <td>0.688661</td>\n",
       "      <td>0.005209</td>\n",
       "      <td>0.005208</td>\n",
       "      <td>0.269672</td>\n",
       "      <td>0.693869</td>\n",
       "      <td>0.020833</td>\n",
       "    </tr>\n",
       "  </tbody>\n",
       "</table>\n",
       "</div>"
      ],
      "text/plain": [
       "   texasshooting   general  sandyhook_1  columbine_1  columbine_2  \\\n",
       "0       0.003623  0.010870     0.182142     0.003623     0.117943   \n",
       "1       0.005556  0.147226     0.005556     0.005556     0.608745   \n",
       "2       0.084111  0.013159     0.004386     0.004386     0.004386   \n",
       "3       0.007576  0.022727     0.007576     0.007576     0.007576   \n",
       "4       0.005208  0.015626     0.259255     0.005208     0.005208   \n",
       "\n",
       "   sandyhook_2  saugushigh  parkland_1  sandyhook_3  parkland_2  general_2  \\\n",
       "0     0.003623    0.216903    0.464896     0.003623    0.003623   0.003623   \n",
       "1     0.005556    0.620971    0.005556     0.005556    0.005556   0.005556   \n",
       "2     0.004386    1.425271    0.199003     0.004386    0.208169   0.004386   \n",
       "3     0.007576    2.443753    0.112183     0.007576    0.007576   0.007576   \n",
       "4     0.005208    0.020833    0.005208     0.005208    0.688661   0.005209   \n",
       "\n",
       "   saugushigh_2  sandyhook  parkland  columbine  \n",
       "0      0.003623   0.189388  0.468520   0.128813  \n",
       "1      0.205138   0.016667  0.011112   0.625413  \n",
       "2      0.473628   0.013158  0.407171   0.017545  \n",
       "3      0.812059   0.022728  0.119758   0.030303  \n",
       "4      0.005208   0.269672  0.693869   0.020833  "
      ]
     },
     "execution_count": 69,
     "metadata": {},
     "output_type": "execute_result"
    }
   ],
   "source": [
    "lda_df.head()"
   ]
  },
  {
   "cell_type": "code",
   "execution_count": 70,
   "metadata": {},
   "outputs": [],
   "source": [
    "topic_df = lda_df[['sandyhook', 'parkland', 'columbine', 'general', 'saugushigh']]"
   ]
  },
  {
   "cell_type": "code",
   "execution_count": 71,
   "metadata": {},
   "outputs": [],
   "source": [
    "topic_df['label'] = topic_df.idxmax(axis=1)"
   ]
  },
  {
   "cell_type": "code",
   "execution_count": 72,
   "metadata": {},
   "outputs": [
    {
     "data": {
      "text/html": [
       "<div>\n",
       "<style scoped>\n",
       "    .dataframe tbody tr th:only-of-type {\n",
       "        vertical-align: middle;\n",
       "    }\n",
       "\n",
       "    .dataframe tbody tr th {\n",
       "        vertical-align: top;\n",
       "    }\n",
       "\n",
       "    .dataframe thead th {\n",
       "        text-align: right;\n",
       "    }\n",
       "</style>\n",
       "<table border=\"1\" class=\"dataframe\">\n",
       "  <thead>\n",
       "    <tr style=\"text-align: right;\">\n",
       "      <th></th>\n",
       "      <th>sandyhook</th>\n",
       "      <th>parkland</th>\n",
       "      <th>columbine</th>\n",
       "      <th>general</th>\n",
       "      <th>saugushigh</th>\n",
       "      <th>label</th>\n",
       "    </tr>\n",
       "  </thead>\n",
       "  <tbody>\n",
       "    <tr>\n",
       "      <th>0</th>\n",
       "      <td>0.189388</td>\n",
       "      <td>0.468520</td>\n",
       "      <td>0.128813</td>\n",
       "      <td>0.010870</td>\n",
       "      <td>0.216903</td>\n",
       "      <td>parkland</td>\n",
       "    </tr>\n",
       "    <tr>\n",
       "      <th>1</th>\n",
       "      <td>0.016667</td>\n",
       "      <td>0.011112</td>\n",
       "      <td>0.625413</td>\n",
       "      <td>0.147226</td>\n",
       "      <td>0.620971</td>\n",
       "      <td>columbine</td>\n",
       "    </tr>\n",
       "    <tr>\n",
       "      <th>2</th>\n",
       "      <td>0.013158</td>\n",
       "      <td>0.407171</td>\n",
       "      <td>0.017545</td>\n",
       "      <td>0.013159</td>\n",
       "      <td>1.425271</td>\n",
       "      <td>saugushigh</td>\n",
       "    </tr>\n",
       "    <tr>\n",
       "      <th>3</th>\n",
       "      <td>0.022728</td>\n",
       "      <td>0.119758</td>\n",
       "      <td>0.030303</td>\n",
       "      <td>0.022727</td>\n",
       "      <td>2.443753</td>\n",
       "      <td>saugushigh</td>\n",
       "    </tr>\n",
       "    <tr>\n",
       "      <th>4</th>\n",
       "      <td>0.269672</td>\n",
       "      <td>0.693869</td>\n",
       "      <td>0.020833</td>\n",
       "      <td>0.015626</td>\n",
       "      <td>0.020833</td>\n",
       "      <td>parkland</td>\n",
       "    </tr>\n",
       "  </tbody>\n",
       "</table>\n",
       "</div>"
      ],
      "text/plain": [
       "   sandyhook  parkland  columbine   general  saugushigh       label\n",
       "0   0.189388  0.468520   0.128813  0.010870    0.216903    parkland\n",
       "1   0.016667  0.011112   0.625413  0.147226    0.620971   columbine\n",
       "2   0.013158  0.407171   0.017545  0.013159    1.425271  saugushigh\n",
       "3   0.022728  0.119758   0.030303  0.022727    2.443753  saugushigh\n",
       "4   0.269672  0.693869   0.020833  0.015626    0.020833    parkland"
      ]
     },
     "execution_count": 72,
     "metadata": {},
     "output_type": "execute_result"
    }
   ],
   "source": [
    "topic_df.head()"
   ]
  },
  {
   "cell_type": "markdown",
   "metadata": {},
   "source": [
    "## Now that we have assigned topic labels according to the LDA vectors, we can add back in the text, date, and username of each of the tweets"
   ]
  },
  {
   "cell_type": "code",
   "execution_count": 77,
   "metadata": {},
   "outputs": [],
   "source": [
    "topic_df['tweet'] = tweets.clean\n",
    "topic_df['date'] = df.date\n",
    "topic_df['username'] = df.username"
   ]
  },
  {
   "cell_type": "code",
   "execution_count": 78,
   "metadata": {},
   "outputs": [
    {
     "data": {
      "text/html": [
       "<div>\n",
       "<style scoped>\n",
       "    .dataframe tbody tr th:only-of-type {\n",
       "        vertical-align: middle;\n",
       "    }\n",
       "\n",
       "    .dataframe tbody tr th {\n",
       "        vertical-align: top;\n",
       "    }\n",
       "\n",
       "    .dataframe thead th {\n",
       "        text-align: right;\n",
       "    }\n",
       "</style>\n",
       "<table border=\"1\" class=\"dataframe\">\n",
       "  <thead>\n",
       "    <tr style=\"text-align: right;\">\n",
       "      <th></th>\n",
       "      <th>sandyhook</th>\n",
       "      <th>parkland</th>\n",
       "      <th>columbine</th>\n",
       "      <th>general</th>\n",
       "      <th>saugushigh</th>\n",
       "      <th>label</th>\n",
       "      <th>tweet</th>\n",
       "      <th>date</th>\n",
       "      <th>username</th>\n",
       "    </tr>\n",
       "  </thead>\n",
       "  <tbody>\n",
       "    <tr>\n",
       "      <th>0</th>\n",
       "      <td>0.189388</td>\n",
       "      <td>0.468520</td>\n",
       "      <td>0.128813</td>\n",
       "      <td>0.010870</td>\n",
       "      <td>0.216903</td>\n",
       "      <td>parkland</td>\n",
       "      <td>florida gov ordered a moment of silence at p m...</td>\n",
       "      <td>2021-02-13</td>\n",
       "      <td>k12ssdb</td>\n",
       "    </tr>\n",
       "    <tr>\n",
       "      <th>1</th>\n",
       "      <td>0.016667</td>\n",
       "      <td>0.011112</td>\n",
       "      <td>0.625413</td>\n",
       "      <td>0.147226</td>\n",
       "      <td>0.620971</td>\n",
       "      <td>columbine</td>\n",
       "      <td>threats of school violence appeared to increas...</td>\n",
       "      <td>2021-02-13</td>\n",
       "      <td>k12ssdb</td>\n",
       "    </tr>\n",
       "    <tr>\n",
       "      <th>2</th>\n",
       "      <td>0.013158</td>\n",
       "      <td>0.407171</td>\n",
       "      <td>0.017545</td>\n",
       "      <td>0.013159</td>\n",
       "      <td>1.425271</td>\n",
       "      <td>saugushigh</td>\n",
       "      <td>a year old man is expected to make a full reco...</td>\n",
       "      <td>2021-02-13</td>\n",
       "      <td>k12ssdb</td>\n",
       "    </tr>\n",
       "    <tr>\n",
       "      <th>3</th>\n",
       "      <td>0.022728</td>\n",
       "      <td>0.119758</td>\n",
       "      <td>0.030303</td>\n",
       "      <td>0.022727</td>\n",
       "      <td>2.443753</td>\n",
       "      <td>saugushigh</td>\n",
       "      <td>police found a fatally shot near a back parkin...</td>\n",
       "      <td>2021-02-13</td>\n",
       "      <td>k12ssdb</td>\n",
       "    </tr>\n",
       "    <tr>\n",
       "      <th>4</th>\n",
       "      <td>0.269672</td>\n",
       "      <td>0.693869</td>\n",
       "      <td>0.020833</td>\n",
       "      <td>0.015626</td>\n",
       "      <td>0.020833</td>\n",
       "      <td>parkland</td>\n",
       "      <td>senrickscott marcorubio words on the senate fl...</td>\n",
       "      <td>2021-02-12</td>\n",
       "      <td>mrsgreenberg</td>\n",
       "    </tr>\n",
       "  </tbody>\n",
       "</table>\n",
       "</div>"
      ],
      "text/plain": [
       "   sandyhook  parkland  columbine   general  saugushigh       label  \\\n",
       "0   0.189388  0.468520   0.128813  0.010870    0.216903    parkland   \n",
       "1   0.016667  0.011112   0.625413  0.147226    0.620971   columbine   \n",
       "2   0.013158  0.407171   0.017545  0.013159    1.425271  saugushigh   \n",
       "3   0.022728  0.119758   0.030303  0.022727    2.443753  saugushigh   \n",
       "4   0.269672  0.693869   0.020833  0.015626    0.020833    parkland   \n",
       "\n",
       "                                               tweet        date      username  \n",
       "0  florida gov ordered a moment of silence at p m...  2021-02-13       k12ssdb  \n",
       "1  threats of school violence appeared to increas...  2021-02-13       k12ssdb  \n",
       "2  a year old man is expected to make a full reco...  2021-02-13       k12ssdb  \n",
       "3  police found a fatally shot near a back parkin...  2021-02-13       k12ssdb  \n",
       "4  senrickscott marcorubio words on the senate fl...  2021-02-12  mrsgreenberg  "
      ]
     },
     "execution_count": 78,
     "metadata": {},
     "output_type": "execute_result"
    }
   ],
   "source": [
    "topic_df.head()"
   ]
  },
  {
   "cell_type": "markdown",
   "metadata": {},
   "source": [
    "## Visualizing the topic frequency according to tweet count"
   ]
  },
  {
   "cell_type": "code",
   "execution_count": 94,
   "metadata": {},
   "outputs": [
    {
     "data": {
      "image/png": "[encoded data removed]",
      "text/plain": [
       "<Figure size 720x432 with 1 Axes>"
      ]
     },
     "metadata": {
      "needs_background": "light"
     },
     "output_type": "display_data"
    }
   ],
   "source": [
    "labels = ['sandyhook', 'parkland', 'columbine', 'general', 'saugushigh']\n",
    "\n",
    "top_freq = list(topic_df['label'].value_counts())\n",
    "\n",
    "plt.figure(figsize=(10, 6))\n",
    "plt.barh(labels, top_freq, color='#4e79a7')\n",
    "plt.xlabel('Tweet Count', fontsize=12)\n",
    "plt.title(\"Topic Frequency\", fontsize=16)\n",
    "sns.despine()\n",
    "plt.savefig(r'../topic_frequency.png');"
   ]
  },
  {
   "cell_type": "markdown",
   "metadata": {},
   "source": [
    "## Next we will visualize the tweet topics over time"
   ]
  },
  {
   "cell_type": "code",
   "execution_count": 80,
   "metadata": {},
   "outputs": [],
   "source": [
    "date_freq = topic_df.groupby(['date', 'label']).size().unstack().reset_index()"
   ]
  },
  {
   "cell_type": "code",
   "execution_count": 81,
   "metadata": {},
   "outputs": [],
   "source": [
    "date_freq.fillna(0, inplace=True)\n",
    "date_freq['total'] = date_freq.sum(axis=1)"
   ]
  },
  {
   "cell_type": "code",
   "execution_count": 82,
   "metadata": {},
   "outputs": [
    {
     "data": {
      "text/html": [
       "<div>\n",
       "<style scoped>\n",
       "    .dataframe tbody tr th:only-of-type {\n",
       "        vertical-align: middle;\n",
       "    }\n",
       "\n",
       "    .dataframe tbody tr th {\n",
       "        vertical-align: top;\n",
       "    }\n",
       "\n",
       "    .dataframe thead th {\n",
       "        text-align: right;\n",
       "    }\n",
       "</style>\n",
       "<table border=\"1\" class=\"dataframe\">\n",
       "  <thead>\n",
       "    <tr style=\"text-align: right;\">\n",
       "      <th>label</th>\n",
       "      <th>date</th>\n",
       "      <th>columbine</th>\n",
       "      <th>general</th>\n",
       "      <th>parkland</th>\n",
       "      <th>sandyhook</th>\n",
       "      <th>saugushigh</th>\n",
       "      <th>total</th>\n",
       "    </tr>\n",
       "  </thead>\n",
       "  <tbody>\n",
       "    <tr>\n",
       "      <th>0</th>\n",
       "      <td>2009-03-11</td>\n",
       "      <td>0.0</td>\n",
       "      <td>3.0</td>\n",
       "      <td>0.0</td>\n",
       "      <td>0.0</td>\n",
       "      <td>2.0</td>\n",
       "      <td>5.0</td>\n",
       "    </tr>\n",
       "    <tr>\n",
       "      <th>1</th>\n",
       "      <td>2009-03-12</td>\n",
       "      <td>0.0</td>\n",
       "      <td>0.0</td>\n",
       "      <td>0.0</td>\n",
       "      <td>0.0</td>\n",
       "      <td>1.0</td>\n",
       "      <td>1.0</td>\n",
       "    </tr>\n",
       "    <tr>\n",
       "      <th>2</th>\n",
       "      <td>2009-03-17</td>\n",
       "      <td>1.0</td>\n",
       "      <td>0.0</td>\n",
       "      <td>0.0</td>\n",
       "      <td>0.0</td>\n",
       "      <td>0.0</td>\n",
       "      <td>1.0</td>\n",
       "    </tr>\n",
       "    <tr>\n",
       "      <th>3</th>\n",
       "      <td>2009-04-10</td>\n",
       "      <td>0.0</td>\n",
       "      <td>0.0</td>\n",
       "      <td>0.0</td>\n",
       "      <td>0.0</td>\n",
       "      <td>1.0</td>\n",
       "      <td>1.0</td>\n",
       "    </tr>\n",
       "    <tr>\n",
       "      <th>4</th>\n",
       "      <td>2009-04-30</td>\n",
       "      <td>0.0</td>\n",
       "      <td>0.0</td>\n",
       "      <td>0.0</td>\n",
       "      <td>0.0</td>\n",
       "      <td>1.0</td>\n",
       "      <td>1.0</td>\n",
       "    </tr>\n",
       "    <tr>\n",
       "      <th>...</th>\n",
       "      <td>...</td>\n",
       "      <td>...</td>\n",
       "      <td>...</td>\n",
       "      <td>...</td>\n",
       "      <td>...</td>\n",
       "      <td>...</td>\n",
       "      <td>...</td>\n",
       "    </tr>\n",
       "    <tr>\n",
       "      <th>2735</th>\n",
       "      <td>2021-02-09</td>\n",
       "      <td>0.0</td>\n",
       "      <td>0.0</td>\n",
       "      <td>2.0</td>\n",
       "      <td>1.0</td>\n",
       "      <td>4.0</td>\n",
       "      <td>7.0</td>\n",
       "    </tr>\n",
       "    <tr>\n",
       "      <th>2736</th>\n",
       "      <td>2021-02-10</td>\n",
       "      <td>0.0</td>\n",
       "      <td>1.0</td>\n",
       "      <td>3.0</td>\n",
       "      <td>1.0</td>\n",
       "      <td>5.0</td>\n",
       "      <td>10.0</td>\n",
       "    </tr>\n",
       "    <tr>\n",
       "      <th>2737</th>\n",
       "      <td>2021-02-11</td>\n",
       "      <td>0.0</td>\n",
       "      <td>0.0</td>\n",
       "      <td>2.0</td>\n",
       "      <td>0.0</td>\n",
       "      <td>5.0</td>\n",
       "      <td>7.0</td>\n",
       "    </tr>\n",
       "    <tr>\n",
       "      <th>2738</th>\n",
       "      <td>2021-02-12</td>\n",
       "      <td>0.0</td>\n",
       "      <td>0.0</td>\n",
       "      <td>2.0</td>\n",
       "      <td>0.0</td>\n",
       "      <td>3.0</td>\n",
       "      <td>5.0</td>\n",
       "    </tr>\n",
       "    <tr>\n",
       "      <th>2739</th>\n",
       "      <td>2021-02-13</td>\n",
       "      <td>1.0</td>\n",
       "      <td>0.0</td>\n",
       "      <td>1.0</td>\n",
       "      <td>0.0</td>\n",
       "      <td>2.0</td>\n",
       "      <td>4.0</td>\n",
       "    </tr>\n",
       "  </tbody>\n",
       "</table>\n",
       "<p>2740 rows × 7 columns</p>\n",
       "</div>"
      ],
      "text/plain": [
       "label        date  columbine  general  parkland  sandyhook  saugushigh  total\n",
       "0      2009-03-11        0.0      3.0       0.0        0.0         2.0    5.0\n",
       "1      2009-03-12        0.0      0.0       0.0        0.0         1.0    1.0\n",
       "2      2009-03-17        1.0      0.0       0.0        0.0         0.0    1.0\n",
       "3      2009-04-10        0.0      0.0       0.0        0.0         1.0    1.0\n",
       "4      2009-04-30        0.0      0.0       0.0        0.0         1.0    1.0\n",
       "...           ...        ...      ...       ...        ...         ...    ...\n",
       "2735   2021-02-09        0.0      0.0       2.0        1.0         4.0    7.0\n",
       "2736   2021-02-10        0.0      1.0       3.0        1.0         5.0   10.0\n",
       "2737   2021-02-11        0.0      0.0       2.0        0.0         5.0    7.0\n",
       "2738   2021-02-12        0.0      0.0       2.0        0.0         3.0    5.0\n",
       "2739   2021-02-13        1.0      0.0       1.0        0.0         2.0    4.0\n",
       "\n",
       "[2740 rows x 7 columns]"
      ]
     },
     "execution_count": 82,
     "metadata": {},
     "output_type": "execute_result"
    }
   ],
   "source": [
    "date_freq"
   ]
  },
  {
   "cell_type": "code",
   "execution_count": 99,
   "metadata": {},
   "outputs": [
    {
     "data": {
      "image/png": "[encoded data removed]",
      "text/plain": [
       "<Figure size 864x432 with 1 Axes>"
      ]
     },
     "metadata": {
      "needs_background": "light"
     },
     "output_type": "display_data"
    }
   ],
   "source": [
    "dates = date_freq.date\n",
    "total_tweets = date_freq.total\n",
    "x_ticks = list(date_freq.date.unique()[::200])\n",
    "\n",
    "plt.figure(figsize=(12, 6))\n",
    "plt.plot(dates, total_tweets, color='#4e79a7', linewidth=2)\n",
    "plt.title('Tweet Frequency over Time', fontsize=16)\n",
    "plt.xlabel('Date', fontsize=12)\n",
    "plt.ylabel('Count', fontsize=12)\n",
    "plt.xticks(x_ticks, rotation=45)\n",
    "sns.despine();"
   ]
  },
  {
   "cell_type": "code",
   "execution_count": 97,
   "metadata": {},
   "outputs": [
    {
     "data": {
      "image/png": "[encoded data removed]",
      "text/plain": [
       "<Figure size 1008x576 with 1 Axes>"
      ]
     },
     "metadata": {
      "needs_background": "light"
     },
     "output_type": "display_data"
    }
   ],
   "source": [
    "dates_limited = date_freq.date\n",
    "x_ticks = list(date_freq.date.unique()[::200])\n",
    "\n",
    "sandyhook = date_freq.sandyhook\n",
    "parkland = date_freq.parkland\n",
    "columbine = date_freq.columbine\n",
    "gen_twitter = date_freq.general\n",
    "saugushigh = date_freq.saugushigh\n",
    "\n",
    "\n",
    "plt.figure(figsize=(14, 8))\n",
    "plt.plot(dates, sandyhook, color='r', linewidth=2, label='Sandy Hook')\n",
    "plt.plot(dates, parkland, color='b', linewidth=2, label='Parkland')\n",
    "\n",
    "plt.plot(dates, columbine, color='g', linewidth=1, label='Columbine')\n",
    "plt.plot(dates, gen_twitter, color='y', linewidth=1, label='General School Shooting')\n",
    "plt.plot(dates, saugushigh, color='darkred', linewidth=1, label='Saugus High')\n",
    "\n",
    "\n",
    "plt.title('Topic Frequency over Time', fontsize=18)\n",
    "plt.xlabel('Date', fontsize=14)\n",
    "plt.ylabel('Count', fontsize=14)\n",
    "plt.xticks(x_ticks, rotation=45)\n",
    "plt.legend(loc='upper left', frameon=False, fontsize=12)\n",
    "sns.despine()"
   ]
  },
  {
   "cell_type": "markdown",
   "metadata": {},
   "source": [
    "## There is obviously still plenty to explore - the spikes shown in the previous two visualizations are assumed to correlate with new shootings occurring, but a further exploration of dates, zooming in on the spikes, might show more interesting patterns. \n",
    "\n",
    "## Note - the \"date\" field is not in datetime format and will need to be modified before date operations could be used\n",
    "\n",
    "## A sentiment analysis would also be a good next step, as well as an exploration of how more preprocessing steps (searching for and removing bot accounts, addressing hashtags, etc) might change the patterns seen so far."
   ]
  },
  {
   "cell_type": "code",
   "execution_count": null,
   "metadata": {},
   "outputs": [],
   "source": []
  }
 ],
 "metadata": {
  "kernelspec": {
   "display_name": "Python 3",
   "language": "python",
   "name": "python3"
  },
  "language_info": {
   "codemirror_mode": {
    "name": "ipython",
    "version": 3
   },
   "file_extension": ".py",
   "mimetype": "text/x-python",
   "name": "python",
   "nbconvert_exporter": "python",
   "pygments_lexer": "ipython3",
   "version": "3.7.4"
  }
 },
 "nbformat": 4,
 "nbformat_minor": 2
}
